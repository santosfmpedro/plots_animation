{
 "cells": [
  {
   "cell_type": "code",
   "execution_count": 1,
   "metadata": {},
   "outputs": [],
   "source": [
    "import pandas as pd \n",
    "import os \n",
    "import matplotlib"
   ]
  },
  {
   "cell_type": "code",
   "execution_count": 2,
   "metadata": {},
   "outputs": [],
   "source": [
    "data = pd.read_csv('data.csv')"
   ]
  },
  {
   "cell_type": "code",
   "execution_count": 3,
   "metadata": {},
   "outputs": [
    {
     "data": {
      "text/html": [
       "<div>\n",
       "<style scoped>\n",
       "    .dataframe tbody tr th:only-of-type {\n",
       "        vertical-align: middle;\n",
       "    }\n",
       "\n",
       "    .dataframe tbody tr th {\n",
       "        vertical-align: top;\n",
       "    }\n",
       "\n",
       "    .dataframe thead th {\n",
       "        text-align: right;\n",
       "    }\n",
       "</style>\n",
       "<table border=\"1\" class=\"dataframe\">\n",
       "  <thead>\n",
       "    <tr style=\"text-align: right;\">\n",
       "      <th></th>\n",
       "      <th>x</th>\n",
       "      <th>y</th>\n",
       "    </tr>\n",
       "  </thead>\n",
       "  <tbody>\n",
       "    <tr>\n",
       "      <th>0</th>\n",
       "      <td>1</td>\n",
       "      <td>1,5</td>\n",
       "    </tr>\n",
       "    <tr>\n",
       "      <th>1</th>\n",
       "      <td>2</td>\n",
       "      <td>1,9</td>\n",
       "    </tr>\n",
       "    <tr>\n",
       "      <th>2</th>\n",
       "      <td>3</td>\n",
       "      <td>2,8</td>\n",
       "    </tr>\n",
       "    <tr>\n",
       "      <th>3</th>\n",
       "      <td>4</td>\n",
       "      <td>4,1</td>\n",
       "    </tr>\n",
       "    <tr>\n",
       "      <th>4</th>\n",
       "      <td>5</td>\n",
       "      <td>5,3</td>\n",
       "    </tr>\n",
       "  </tbody>\n",
       "</table>\n",
       "</div>"
      ],
      "text/plain": [
       "   x    y\n",
       "0  1  1,5\n",
       "1  2  1,9\n",
       "2  3  2,8\n",
       "3  4  4,1\n",
       "4  5  5,3"
      ]
     },
     "execution_count": 3,
     "metadata": {},
     "output_type": "execute_result"
    }
   ],
   "source": [
    "data.head()"
   ]
  },
  {
   "cell_type": "code",
   "execution_count": 16,
   "metadata": {},
   "outputs": [
    {
     "name": "stderr",
     "output_type": "stream",
     "text": [
      "c:\\ProgramData\\anaconda3\\lib\\site-packages\\matplotlib\\animation.py:880: UserWarning: Animation was deleted without rendering anything. This is most likely not intended. To prevent deletion, assign the Animation to a variable, e.g. `anim`, that exists until you output the Animation using `plt.show()` or `anim.save()`.\n",
      "  warnings.warn(\n"
     ]
    },
    {
     "data": {
      "image/png": "[encoded data removed]",
      "text/plain": [
       "<Figure size 640x480 with 1 Axes>"
      ]
     },
     "metadata": {},
     "output_type": "display_data"
    }
   ],
   "source": [
    "import matplotlib.pyplot as plt\n",
    "import pandas as pd\n",
    "from matplotlib.animation import FuncAnimation\n",
    "\n",
    "# Crie um dataframe com os dados\n",
    "df = pd.DataFrame({'Tempo': [1, 2, 3, 4, 5], 'Temperatura': [20, 21, 22, 23, 24]})\n",
    "\n",
    "\n",
    "def update(i):\n",
    "    plt.cla()\n",
    "    plt.bar(df['Tempo'], df['Temperatura'][:i])\n",
    "    plt.xlabel('Tempo')\n",
    "    plt.ylabel('Temperatura')\n",
    "    plt.title('Gráfico de barras animado')\n",
    "\n",
    "\n",
    "# Crie um gráfico de barras\n",
    "plt.bar(df['Tempo'], df['Temperatura'])\n",
    "\n",
    "# Configure o gráfico\n",
    "plt.xlabel('Tempo')\n",
    "plt.ylabel('Temperatura')\n",
    "plt.title('Gráfico de barras animado')\n",
    "\n",
    "# Crie a animação\n",
    "ani = FuncAnimation(plt.gcf(), func=update, frames=df.shape[0], interval=1)\n",
    "\n",
    "# Exiba o gráfico\n",
    "plt.show()\n"
   ]
  },
  {
   "cell_type": "code",
   "execution_count": 23,
   "metadata": {},
   "outputs": [
    {
     "data": {
      "text/plain": [
       "(0.0, 7.9)"
      ]
     },
     "execution_count": 23,
     "metadata": {},
     "output_type": "execute_result"
    },
    {
     "data": {
      "image/png": "[encoded data removed]",
      "text/plain": [
       "<Figure size 640x480 with 1 Axes>"
      ]
     },
     "metadata": {},
     "output_type": "display_data"
    }
   ],
   "source": [
    "import pandas as pd\n",
    "import matplotlib.pyplot as plt\n",
    "from scipy.optimize import curve_fit\n",
    "from matplotlib.animation import FuncAnimation\n",
    "\n",
    "# DataFrame com os dados fornecidos\n",
    "data = {\n",
    "    'x': [1, 2, 3, 4, 5, 6, 7],\n",
    "    'y': [\"1,5\", \"1,9\", \"2,8\", \"4,1\", \"5,3\", \"5,9\", \"6,9\"]\n",
    "}\n",
    "df = pd.DataFrame(data)\n",
    "\n",
    "# Converter a coluna 'y' para valores numéricos corretamente\n",
    "df['y'] = df['y'].str.replace(',', '.').astype(float)\n",
    "\n",
    "# Função para ajustar a curva de regressão multinomial\n",
    "def multinomial_regression(x, a, b, c):\n",
    "    return a * x**2 + b * x + c\n",
    "\n",
    "# Criar a figura e o eixo do gráfico\n",
    "fig, ax = plt.subplots()\n",
    "scatter = ax.scatter([], [], c='b')\n",
    "line, = ax.plot([], [], 'r-')\n",
    "# Definir limites dos eixos\n",
    "ax.set_xlim(0, df['x'].max() + 1)\n",
    "ax.set_ylim(0, df['y'].max() + 1)\n",
    "# Função de inicialização da animação"
   ]
  },
  {
   "cell_type": "code",
   "execution_count": 31,
   "metadata": {},
   "outputs": [],
   "source": [
    "x = df['x'].iloc[:1]\n",
    "y = df['y'].iloc[:1]"
   ]
  },
  {
   "cell_type": "code",
   "execution_count": 44,
   "metadata": {},
   "outputs": [
    {
     "name": "stdout",
     "output_type": "stream",
     "text": [
      "1\n",
      "1.5\n"
     ]
    },
    {
     "ename": "TypeError",
     "evalue": "Improper input: func input vector length N=3 must not exceed func output vector length M=1",
     "output_type": "error",
     "traceback": [
      "\u001b[1;31m---------------------------------------------------------------------------\u001b[0m",
      "\u001b[1;31mTypeError\u001b[0m                                 Traceback (most recent call last)",
      "Cell \u001b[1;32mIn[44], line 7\u001b[0m\n\u001b[0;32m      5\u001b[0m \u001b[39mprint\u001b[39m(y)\n\u001b[0;32m      6\u001b[0m \u001b[39m# Realizar a regressão para ajustar a curva aos dados\u001b[39;00m\n\u001b[1;32m----> 7\u001b[0m popt \u001b[39m=\u001b[39m curve_fit(multinomial_regression, x, y)\n\u001b[0;32m     10\u001b[0m \u001b[39m# Calcular os pontos da curva de regressão para o frame atual\u001b[39;00m\n\u001b[0;32m     11\u001b[0m x_fit \u001b[39m=\u001b[39m \u001b[39mrange\u001b[39m(\u001b[39m1\u001b[39m, df[\u001b[39m'\u001b[39m\u001b[39mx\u001b[39m\u001b[39m'\u001b[39m]\u001b[39m.\u001b[39mmax() \u001b[39m+\u001b[39m \u001b[39m1\u001b[39m)\n",
      "File \u001b[1;32mc:\\ProgramData\\anaconda3\\lib\\site-packages\\scipy\\optimize\\_minpack_py.py:859\u001b[0m, in \u001b[0;36mcurve_fit\u001b[1;34m(f, xdata, ydata, p0, sigma, absolute_sigma, check_finite, bounds, method, jac, full_output, **kwargs)\u001b[0m\n\u001b[0;32m    856\u001b[0m \u001b[39mif\u001b[39;00m ydata\u001b[39m.\u001b[39msize \u001b[39m!=\u001b[39m \u001b[39m1\u001b[39m \u001b[39mand\u001b[39;00m n \u001b[39m>\u001b[39m ydata\u001b[39m.\u001b[39msize:\n\u001b[0;32m    857\u001b[0m     \u001b[39mraise\u001b[39;00m \u001b[39mTypeError\u001b[39;00m(\u001b[39mf\u001b[39m\u001b[39m\"\u001b[39m\u001b[39mThe number of func parameters=\u001b[39m\u001b[39m{\u001b[39;00mn\u001b[39m}\u001b[39;00m\u001b[39m must not\u001b[39m\u001b[39m\"\u001b[39m\n\u001b[0;32m    858\u001b[0m                     \u001b[39mf\u001b[39m\u001b[39m\"\u001b[39m\u001b[39m exceed the number of data points=\u001b[39m\u001b[39m{\u001b[39;00mydata\u001b[39m.\u001b[39msize\u001b[39m}\u001b[39;00m\u001b[39m\"\u001b[39m)\n\u001b[1;32m--> 859\u001b[0m res \u001b[39m=\u001b[39m leastsq(func, p0, Dfun\u001b[39m=\u001b[39mjac, full_output\u001b[39m=\u001b[39m\u001b[39m1\u001b[39m, \u001b[39m*\u001b[39m\u001b[39m*\u001b[39mkwargs)\n\u001b[0;32m    860\u001b[0m popt, pcov, infodict, errmsg, ier \u001b[39m=\u001b[39m res\n\u001b[0;32m    861\u001b[0m ysize \u001b[39m=\u001b[39m \u001b[39mlen\u001b[39m(infodict[\u001b[39m'\u001b[39m\u001b[39mfvec\u001b[39m\u001b[39m'\u001b[39m])\n",
      "File \u001b[1;32mc:\\ProgramData\\anaconda3\\lib\\site-packages\\scipy\\optimize\\_minpack_py.py:417\u001b[0m, in \u001b[0;36mleastsq\u001b[1;34m(func, x0, args, Dfun, full_output, col_deriv, ftol, xtol, gtol, maxfev, epsfcn, factor, diag)\u001b[0m\n\u001b[0;32m    414\u001b[0m m \u001b[39m=\u001b[39m shape[\u001b[39m0\u001b[39m]\n\u001b[0;32m    416\u001b[0m \u001b[39mif\u001b[39;00m n \u001b[39m>\u001b[39m m:\n\u001b[1;32m--> 417\u001b[0m     \u001b[39mraise\u001b[39;00m \u001b[39mTypeError\u001b[39;00m(\u001b[39mf\u001b[39m\u001b[39m\"\u001b[39m\u001b[39mImproper input: func input vector length N=\u001b[39m\u001b[39m{\u001b[39;00mn\u001b[39m}\u001b[39;00m\u001b[39m must\u001b[39m\u001b[39m\"\u001b[39m\n\u001b[0;32m    418\u001b[0m                     \u001b[39mf\u001b[39m\u001b[39m\"\u001b[39m\u001b[39m not exceed func output vector length M=\u001b[39m\u001b[39m{\u001b[39;00mm\u001b[39m}\u001b[39;00m\u001b[39m\"\u001b[39m)\n\u001b[0;32m    420\u001b[0m \u001b[39mif\u001b[39;00m epsfcn \u001b[39mis\u001b[39;00m \u001b[39mNone\u001b[39;00m:\n\u001b[0;32m    421\u001b[0m     epsfcn \u001b[39m=\u001b[39m finfo(dtype)\u001b[39m.\u001b[39meps\n",
      "\u001b[1;31mTypeError\u001b[0m: Improper input: func input vector length N=3 must not exceed func output vector length M=1"
     ]
    }
   ],
   "source": [
    "frame=1\n",
    "x = df['x'].iloc[:frame][0]\n",
    "y = df['y'].iloc[:frame][0]\n",
    "print(x)\n",
    "print(y)\n",
    "# Realizar a regressão para ajustar a curva aos dados\n",
    "popt, _ = curve_fit(multinomial_regression, x, y)\n",
    "\n",
    "\n",
    "# Calcular os pontos da curva de regressão para o frame atual\n",
    "x_fit = range(1, df['x'].max() + 1)\n",
    "y_fit = multinomial_regression(x_fit, *popt)\n",
    "\n",
    "scatter.set_offsets(list(zip(x, y)))\n",
    "line.set_data(x_fit, y_fit)"
   ]
  },
  {
   "cell_type": "code",
   "execution_count": 47,
   "metadata": {},
   "outputs": [
    {
     "ename": "IndexError",
     "evalue": "too many indices for array: array is 1-dimensional, but 2 were indexed",
     "output_type": "error",
     "traceback": [
      "\u001b[1;31m---------------------------------------------------------------------------\u001b[0m",
      "\u001b[1;31mIndexError\u001b[0m                                Traceback (most recent call last)",
      "Cell \u001b[1;32mIn[47], line 49\u001b[0m\n\u001b[0;32m     46\u001b[0m     \u001b[39mreturn\u001b[39;00m scatter, line\n\u001b[0;32m     48\u001b[0m \u001b[39m# Criar a animação\u001b[39;00m\n\u001b[1;32m---> 49\u001b[0m animation \u001b[39m=\u001b[39m FuncAnimation(fig, update, frames\u001b[39m=\u001b[39;49m\u001b[39mlen\u001b[39;49m(x), init_func\u001b[39m=\u001b[39;49minit, blit\u001b[39m=\u001b[39;49m\u001b[39mTrue\u001b[39;49;00m)\n\u001b[0;32m     51\u001b[0m \u001b[39m# Mostrar a animação\u001b[39;00m\n\u001b[0;32m     52\u001b[0m plt\u001b[39m.\u001b[39mxlabel(\u001b[39m'\u001b[39m\u001b[39mx\u001b[39m\u001b[39m'\u001b[39m)\n",
      "File \u001b[1;32mc:\\ProgramData\\anaconda3\\lib\\site-packages\\matplotlib\\animation.py:1686\u001b[0m, in \u001b[0;36mFuncAnimation.__init__\u001b[1;34m(self, fig, func, frames, init_func, fargs, save_count, cache_frame_data, **kwargs)\u001b[0m\n\u001b[0;32m   1683\u001b[0m \u001b[39m# Needs to be initialized so the draw functions work without checking\u001b[39;00m\n\u001b[0;32m   1684\u001b[0m \u001b[39mself\u001b[39m\u001b[39m.\u001b[39m_save_seq \u001b[39m=\u001b[39m []\n\u001b[1;32m-> 1686\u001b[0m \u001b[39msuper\u001b[39m()\u001b[39m.\u001b[39m\u001b[39m__init__\u001b[39m(fig, \u001b[39m*\u001b[39m\u001b[39m*\u001b[39mkwargs)\n\u001b[0;32m   1688\u001b[0m \u001b[39m# Need to reset the saved seq, since right now it will contain data\u001b[39;00m\n\u001b[0;32m   1689\u001b[0m \u001b[39m# for a single frame from init, which is not what we want.\u001b[39;00m\n\u001b[0;32m   1690\u001b[0m \u001b[39mself\u001b[39m\u001b[39m.\u001b[39m_save_seq \u001b[39m=\u001b[39m []\n",
      "File \u001b[1;32mc:\\ProgramData\\anaconda3\\lib\\site-packages\\matplotlib\\animation.py:1408\u001b[0m, in \u001b[0;36mTimedAnimation.__init__\u001b[1;34m(self, fig, interval, repeat_delay, repeat, event_source, *args, **kwargs)\u001b[0m\n\u001b[0;32m   1406\u001b[0m \u001b[39mif\u001b[39;00m event_source \u001b[39mis\u001b[39;00m \u001b[39mNone\u001b[39;00m:\n\u001b[0;32m   1407\u001b[0m     event_source \u001b[39m=\u001b[39m fig\u001b[39m.\u001b[39mcanvas\u001b[39m.\u001b[39mnew_timer(interval\u001b[39m=\u001b[39m\u001b[39mself\u001b[39m\u001b[39m.\u001b[39m_interval)\n\u001b[1;32m-> 1408\u001b[0m \u001b[39msuper\u001b[39m()\u001b[39m.\u001b[39m\u001b[39m__init__\u001b[39m(fig, event_source\u001b[39m=\u001b[39mevent_source, \u001b[39m*\u001b[39margs, \u001b[39m*\u001b[39m\u001b[39m*\u001b[39mkwargs)\n",
      "File \u001b[1;32mc:\\ProgramData\\anaconda3\\lib\\site-packages\\matplotlib\\animation.py:876\u001b[0m, in \u001b[0;36mAnimation.__init__\u001b[1;34m(self, fig, event_source, blit)\u001b[0m\n\u001b[0;32m    873\u001b[0m \u001b[39mself\u001b[39m\u001b[39m.\u001b[39m_close_id \u001b[39m=\u001b[39m \u001b[39mself\u001b[39m\u001b[39m.\u001b[39m_fig\u001b[39m.\u001b[39mcanvas\u001b[39m.\u001b[39mmpl_connect(\u001b[39m'\u001b[39m\u001b[39mclose_event\u001b[39m\u001b[39m'\u001b[39m,\n\u001b[0;32m    874\u001b[0m                                               \u001b[39mself\u001b[39m\u001b[39m.\u001b[39m_stop)\n\u001b[0;32m    875\u001b[0m \u001b[39mif\u001b[39;00m \u001b[39mself\u001b[39m\u001b[39m.\u001b[39m_blit:\n\u001b[1;32m--> 876\u001b[0m     \u001b[39mself\u001b[39;49m\u001b[39m.\u001b[39;49m_setup_blit()\n",
      "File \u001b[1;32mc:\\ProgramData\\anaconda3\\lib\\site-packages\\matplotlib\\animation.py:1201\u001b[0m, in \u001b[0;36mAnimation._setup_blit\u001b[1;34m(self)\u001b[0m\n\u001b[0;32m   1199\u001b[0m \u001b[39mself\u001b[39m\u001b[39m.\u001b[39m_drawn_artists \u001b[39m=\u001b[39m []\n\u001b[0;32m   1200\u001b[0m \u001b[39m# _post_draw needs to be called first to initialize the renderer\u001b[39;00m\n\u001b[1;32m-> 1201\u001b[0m \u001b[39mself\u001b[39;49m\u001b[39m.\u001b[39;49m_post_draw(\u001b[39mNone\u001b[39;49;00m, \u001b[39mself\u001b[39;49m\u001b[39m.\u001b[39;49m_blit)\n\u001b[0;32m   1202\u001b[0m \u001b[39m# Then we need to clear the Frame for the initial draw\u001b[39;00m\n\u001b[0;32m   1203\u001b[0m \u001b[39m# This is typically handled in _on_resize because QT and Tk\u001b[39;00m\n\u001b[0;32m   1204\u001b[0m \u001b[39m# emit a resize event on launch, but the macosx backend does not,\u001b[39;00m\n\u001b[0;32m   1205\u001b[0m \u001b[39m# thus we force it here for everyone for consistency\u001b[39;00m\n\u001b[0;32m   1206\u001b[0m \u001b[39mself\u001b[39m\u001b[39m.\u001b[39m_init_draw()\n",
      "File \u001b[1;32mc:\\ProgramData\\anaconda3\\lib\\site-packages\\matplotlib\\animation.py:1156\u001b[0m, in \u001b[0;36mAnimation._post_draw\u001b[1;34m(self, framedata, blit)\u001b[0m\n\u001b[0;32m   1154\u001b[0m     \u001b[39mself\u001b[39m\u001b[39m.\u001b[39m_blit_draw(\u001b[39mself\u001b[39m\u001b[39m.\u001b[39m_drawn_artists)\n\u001b[0;32m   1155\u001b[0m \u001b[39melse\u001b[39;00m:\n\u001b[1;32m-> 1156\u001b[0m     \u001b[39mself\u001b[39;49m\u001b[39m.\u001b[39;49m_fig\u001b[39m.\u001b[39;49mcanvas\u001b[39m.\u001b[39;49mdraw_idle()\n",
      "File \u001b[1;32mc:\\ProgramData\\anaconda3\\lib\\site-packages\\matplotlib\\backend_bases.py:2078\u001b[0m, in \u001b[0;36mFigureCanvasBase.draw_idle\u001b[1;34m(self, *args, **kwargs)\u001b[0m\n\u001b[0;32m   2076\u001b[0m \u001b[39mif\u001b[39;00m \u001b[39mnot\u001b[39;00m \u001b[39mself\u001b[39m\u001b[39m.\u001b[39m_is_idle_drawing:\n\u001b[0;32m   2077\u001b[0m     \u001b[39mwith\u001b[39;00m \u001b[39mself\u001b[39m\u001b[39m.\u001b[39m_idle_draw_cntx():\n\u001b[1;32m-> 2078\u001b[0m         \u001b[39mself\u001b[39m\u001b[39m.\u001b[39mdraw(\u001b[39m*\u001b[39margs, \u001b[39m*\u001b[39m\u001b[39m*\u001b[39mkwargs)\n",
      "File \u001b[1;32mc:\\ProgramData\\anaconda3\\lib\\site-packages\\matplotlib\\backends\\backend_agg.py:400\u001b[0m, in \u001b[0;36mFigureCanvasAgg.draw\u001b[1;34m(self)\u001b[0m\n\u001b[0;32m    396\u001b[0m \u001b[39m# Acquire a lock on the shared font cache.\u001b[39;00m\n\u001b[0;32m    397\u001b[0m \u001b[39mwith\u001b[39;00m RendererAgg\u001b[39m.\u001b[39mlock, \\\n\u001b[0;32m    398\u001b[0m      (\u001b[39mself\u001b[39m\u001b[39m.\u001b[39mtoolbar\u001b[39m.\u001b[39m_wait_cursor_for_draw_cm() \u001b[39mif\u001b[39;00m \u001b[39mself\u001b[39m\u001b[39m.\u001b[39mtoolbar\n\u001b[0;32m    399\u001b[0m       \u001b[39melse\u001b[39;00m nullcontext()):\n\u001b[1;32m--> 400\u001b[0m     \u001b[39mself\u001b[39;49m\u001b[39m.\u001b[39;49mfigure\u001b[39m.\u001b[39;49mdraw(\u001b[39mself\u001b[39;49m\u001b[39m.\u001b[39;49mrenderer)\n\u001b[0;32m    401\u001b[0m     \u001b[39m# A GUI class may be need to update a window using this draw, so\u001b[39;00m\n\u001b[0;32m    402\u001b[0m     \u001b[39m# don't forget to call the superclass.\u001b[39;00m\n\u001b[0;32m    403\u001b[0m     \u001b[39msuper\u001b[39m()\u001b[39m.\u001b[39mdraw()\n",
      "File \u001b[1;32mc:\\ProgramData\\anaconda3\\lib\\site-packages\\matplotlib\\artist.py:95\u001b[0m, in \u001b[0;36m_finalize_rasterization.<locals>.draw_wrapper\u001b[1;34m(artist, renderer, *args, **kwargs)\u001b[0m\n\u001b[0;32m     93\u001b[0m \u001b[39m@wraps\u001b[39m(draw)\n\u001b[0;32m     94\u001b[0m \u001b[39mdef\u001b[39;00m \u001b[39mdraw_wrapper\u001b[39m(artist, renderer, \u001b[39m*\u001b[39margs, \u001b[39m*\u001b[39m\u001b[39m*\u001b[39mkwargs):\n\u001b[1;32m---> 95\u001b[0m     result \u001b[39m=\u001b[39m draw(artist, renderer, \u001b[39m*\u001b[39margs, \u001b[39m*\u001b[39m\u001b[39m*\u001b[39mkwargs)\n\u001b[0;32m     96\u001b[0m     \u001b[39mif\u001b[39;00m renderer\u001b[39m.\u001b[39m_rasterizing:\n\u001b[0;32m     97\u001b[0m         renderer\u001b[39m.\u001b[39mstop_rasterizing()\n",
      "File \u001b[1;32mc:\\ProgramData\\anaconda3\\lib\\site-packages\\matplotlib\\artist.py:72\u001b[0m, in \u001b[0;36mallow_rasterization.<locals>.draw_wrapper\u001b[1;34m(artist, renderer)\u001b[0m\n\u001b[0;32m     69\u001b[0m     \u001b[39mif\u001b[39;00m artist\u001b[39m.\u001b[39mget_agg_filter() \u001b[39mis\u001b[39;00m \u001b[39mnot\u001b[39;00m \u001b[39mNone\u001b[39;00m:\n\u001b[0;32m     70\u001b[0m         renderer\u001b[39m.\u001b[39mstart_filter()\n\u001b[1;32m---> 72\u001b[0m     \u001b[39mreturn\u001b[39;00m draw(artist, renderer)\n\u001b[0;32m     73\u001b[0m \u001b[39mfinally\u001b[39;00m:\n\u001b[0;32m     74\u001b[0m     \u001b[39mif\u001b[39;00m artist\u001b[39m.\u001b[39mget_agg_filter() \u001b[39mis\u001b[39;00m \u001b[39mnot\u001b[39;00m \u001b[39mNone\u001b[39;00m:\n",
      "File \u001b[1;32mc:\\ProgramData\\anaconda3\\lib\\site-packages\\matplotlib\\figure.py:3135\u001b[0m, in \u001b[0;36mFigure.draw\u001b[1;34m(self, renderer)\u001b[0m\n\u001b[0;32m   3132\u001b[0m \u001b[39mfinally\u001b[39;00m:\n\u001b[0;32m   3133\u001b[0m     \u001b[39mself\u001b[39m\u001b[39m.\u001b[39mstale \u001b[39m=\u001b[39m \u001b[39mFalse\u001b[39;00m\n\u001b[1;32m-> 3135\u001b[0m DrawEvent(\u001b[39m\"\u001b[39;49m\u001b[39mdraw_event\u001b[39;49m\u001b[39m\"\u001b[39;49m, \u001b[39mself\u001b[39;49m\u001b[39m.\u001b[39;49mcanvas, renderer)\u001b[39m.\u001b[39;49m_process()\n",
      "File \u001b[1;32mc:\\ProgramData\\anaconda3\\lib\\site-packages\\matplotlib\\backend_bases.py:1259\u001b[0m, in \u001b[0;36mEvent._process\u001b[1;34m(self)\u001b[0m\n\u001b[0;32m   1257\u001b[0m \u001b[39mdef\u001b[39;00m \u001b[39m_process\u001b[39m(\u001b[39mself\u001b[39m):\n\u001b[0;32m   1258\u001b[0m     \u001b[39m\"\"\"Generate an event with name ``self.name`` on ``self.canvas``.\"\"\"\u001b[39;00m\n\u001b[1;32m-> 1259\u001b[0m     \u001b[39mself\u001b[39;49m\u001b[39m.\u001b[39;49mcanvas\u001b[39m.\u001b[39;49mcallbacks\u001b[39m.\u001b[39;49mprocess(\u001b[39mself\u001b[39;49m\u001b[39m.\u001b[39;49mname, \u001b[39mself\u001b[39;49m)\n",
      "File \u001b[1;32mc:\\ProgramData\\anaconda3\\lib\\site-packages\\matplotlib\\cbook\\__init__.py:309\u001b[0m, in \u001b[0;36mCallbackRegistry.process\u001b[1;34m(self, s, *args, **kwargs)\u001b[0m\n\u001b[0;32m    307\u001b[0m \u001b[39mexcept\u001b[39;00m \u001b[39mException\u001b[39;00m \u001b[39mas\u001b[39;00m exc:\n\u001b[0;32m    308\u001b[0m     \u001b[39mif\u001b[39;00m \u001b[39mself\u001b[39m\u001b[39m.\u001b[39mexception_handler \u001b[39mis\u001b[39;00m \u001b[39mnot\u001b[39;00m \u001b[39mNone\u001b[39;00m:\n\u001b[1;32m--> 309\u001b[0m         \u001b[39mself\u001b[39;49m\u001b[39m.\u001b[39;49mexception_handler(exc)\n\u001b[0;32m    310\u001b[0m     \u001b[39melse\u001b[39;00m:\n\u001b[0;32m    311\u001b[0m         \u001b[39mraise\u001b[39;00m\n",
      "File \u001b[1;32mc:\\ProgramData\\anaconda3\\lib\\site-packages\\matplotlib\\cbook\\__init__.py:96\u001b[0m, in \u001b[0;36m_exception_printer\u001b[1;34m(exc)\u001b[0m\n\u001b[0;32m     94\u001b[0m \u001b[39mdef\u001b[39;00m \u001b[39m_exception_printer\u001b[39m(exc):\n\u001b[0;32m     95\u001b[0m     \u001b[39mif\u001b[39;00m _get_running_interactive_framework() \u001b[39min\u001b[39;00m [\u001b[39m\"\u001b[39m\u001b[39mheadless\u001b[39m\u001b[39m\"\u001b[39m, \u001b[39mNone\u001b[39;00m]:\n\u001b[1;32m---> 96\u001b[0m         \u001b[39mraise\u001b[39;00m exc\n\u001b[0;32m     97\u001b[0m     \u001b[39melse\u001b[39;00m:\n\u001b[0;32m     98\u001b[0m         traceback\u001b[39m.\u001b[39mprint_exc()\n",
      "File \u001b[1;32mc:\\ProgramData\\anaconda3\\lib\\site-packages\\matplotlib\\cbook\\__init__.py:304\u001b[0m, in \u001b[0;36mCallbackRegistry.process\u001b[1;34m(self, s, *args, **kwargs)\u001b[0m\n\u001b[0;32m    302\u001b[0m \u001b[39mif\u001b[39;00m func \u001b[39mis\u001b[39;00m \u001b[39mnot\u001b[39;00m \u001b[39mNone\u001b[39;00m:\n\u001b[0;32m    303\u001b[0m     \u001b[39mtry\u001b[39;00m:\n\u001b[1;32m--> 304\u001b[0m         func(\u001b[39m*\u001b[39margs, \u001b[39m*\u001b[39m\u001b[39m*\u001b[39mkwargs)\n\u001b[0;32m    305\u001b[0m     \u001b[39m# this does not capture KeyboardInterrupt, SystemExit,\u001b[39;00m\n\u001b[0;32m    306\u001b[0m     \u001b[39m# and GeneratorExit\u001b[39;00m\n\u001b[0;32m    307\u001b[0m     \u001b[39mexcept\u001b[39;00m \u001b[39mException\u001b[39;00m \u001b[39mas\u001b[39;00m exc:\n",
      "File \u001b[1;32mc:\\ProgramData\\anaconda3\\lib\\site-packages\\matplotlib\\animation.py:900\u001b[0m, in \u001b[0;36mAnimation._start\u001b[1;34m(self, *args)\u001b[0m\n\u001b[0;32m    897\u001b[0m \u001b[39mself\u001b[39m\u001b[39m.\u001b[39m_fig\u001b[39m.\u001b[39mcanvas\u001b[39m.\u001b[39mmpl_disconnect(\u001b[39mself\u001b[39m\u001b[39m.\u001b[39m_first_draw_id)\n\u001b[0;32m    899\u001b[0m \u001b[39m# Now do any initial draw\u001b[39;00m\n\u001b[1;32m--> 900\u001b[0m \u001b[39mself\u001b[39;49m\u001b[39m.\u001b[39;49m_init_draw()\n\u001b[0;32m    902\u001b[0m \u001b[39m# Add our callback for stepping the animation and\u001b[39;00m\n\u001b[0;32m    903\u001b[0m \u001b[39m# actually start the event_source.\u001b[39;00m\n\u001b[0;32m    904\u001b[0m \u001b[39mself\u001b[39m\u001b[39m.\u001b[39mevent_source\u001b[39m.\u001b[39madd_callback(\u001b[39mself\u001b[39m\u001b[39m.\u001b[39m_step)\n",
      "File \u001b[1;32mc:\\ProgramData\\anaconda3\\lib\\site-packages\\matplotlib\\animation.py:1742\u001b[0m, in \u001b[0;36mFuncAnimation._init_draw\u001b[1;34m(self)\u001b[0m\n\u001b[0;32m   1740\u001b[0m     \u001b[39mself\u001b[39m\u001b[39m.\u001b[39m_draw_frame(frame_data)\n\u001b[0;32m   1741\u001b[0m \u001b[39melse\u001b[39;00m:\n\u001b[1;32m-> 1742\u001b[0m     \u001b[39mself\u001b[39m\u001b[39m.\u001b[39m_drawn_artists \u001b[39m=\u001b[39m \u001b[39mself\u001b[39;49m\u001b[39m.\u001b[39;49m_init_func()\n\u001b[0;32m   1743\u001b[0m     \u001b[39mif\u001b[39;00m \u001b[39mself\u001b[39m\u001b[39m.\u001b[39m_blit:\n\u001b[0;32m   1744\u001b[0m         \u001b[39mif\u001b[39;00m \u001b[39mself\u001b[39m\u001b[39m.\u001b[39m_drawn_artists \u001b[39mis\u001b[39;00m \u001b[39mNone\u001b[39;00m:\n",
      "Cell \u001b[1;32mIn[47], line 28\u001b[0m, in \u001b[0;36minit\u001b[1;34m()\u001b[0m\n\u001b[0;32m     27\u001b[0m \u001b[39mdef\u001b[39;00m \u001b[39minit\u001b[39m():\n\u001b[1;32m---> 28\u001b[0m     scatter\u001b[39m.\u001b[39;49mset_offsets([])\n\u001b[0;32m     29\u001b[0m     line\u001b[39m.\u001b[39mset_data([], [])\n\u001b[0;32m     30\u001b[0m     \u001b[39mreturn\u001b[39;00m scatter, line\n",
      "File \u001b[1;32mc:\\ProgramData\\anaconda3\\lib\\site-packages\\matplotlib\\collections.py:551\u001b[0m, in \u001b[0;36mCollection.set_offsets\u001b[1;34m(self, offsets)\u001b[0m\n\u001b[0;32m    547\u001b[0m     offsets \u001b[39m=\u001b[39m offsets[\u001b[39mNone\u001b[39;00m, :]\n\u001b[0;32m    548\u001b[0m cstack \u001b[39m=\u001b[39m (np\u001b[39m.\u001b[39mma\u001b[39m.\u001b[39mcolumn_stack \u001b[39mif\u001b[39;00m \u001b[39misinstance\u001b[39m(offsets, np\u001b[39m.\u001b[39mma\u001b[39m.\u001b[39mMaskedArray)\n\u001b[0;32m    549\u001b[0m           \u001b[39melse\u001b[39;00m np\u001b[39m.\u001b[39mcolumn_stack)\n\u001b[0;32m    550\u001b[0m \u001b[39mself\u001b[39m\u001b[39m.\u001b[39m_offsets \u001b[39m=\u001b[39m cstack(\n\u001b[1;32m--> 551\u001b[0m     (np\u001b[39m.\u001b[39masanyarray(\u001b[39mself\u001b[39m\u001b[39m.\u001b[39mconvert_xunits(offsets[:, \u001b[39m0\u001b[39;49m]), \u001b[39mfloat\u001b[39m),\n\u001b[0;32m    552\u001b[0m      np\u001b[39m.\u001b[39masanyarray(\u001b[39mself\u001b[39m\u001b[39m.\u001b[39mconvert_yunits(offsets[:, \u001b[39m1\u001b[39m]), \u001b[39mfloat\u001b[39m)))\n\u001b[0;32m    553\u001b[0m \u001b[39mself\u001b[39m\u001b[39m.\u001b[39mstale \u001b[39m=\u001b[39m \u001b[39mTrue\u001b[39;00m\n",
      "\u001b[1;31mIndexError\u001b[0m: too many indices for array: array is 1-dimensional, but 2 were indexed"
     ]
    },
    {
     "data": {
      "image/png": "[encoded data removed]",
      "text/plain": [
       "<Figure size 640x480 with 1 Axes>"
      ]
     },
     "metadata": {},
     "output_type": "display_data"
    }
   ],
   "source": [
    "import numpy as np\n",
    "import matplotlib.pyplot as plt\n",
    "from scipy.optimize import curve_fit\n",
    "from matplotlib.animation import FuncAnimation\n",
    "\n",
    "# Dados fornecidos como dois arrays separados\n",
    "x = np.array([1, 2, 3, 4, 5, 6, 7])\n",
    "y_str = np.array([\"1,5\", \"1,9\", \"2,8\", \"4,1\", \"5,3\", \"5,9\", \"6,9\"])\n",
    "\n",
    "# Converter os valores de 'y' para valores numéricos corretamente\n",
    "y = np.array([float(value.replace(',', '.')) for value in y_str])\n",
    "\n",
    "# Função para ajustar a curva de regressão polinomial (grau 1) aos dados\n",
    "def linear_regression(x, a, b):\n",
    "    return a * x + b\n",
    "\n",
    "# Criar a figura e o eixo do gráfico\n",
    "fig, ax = plt.subplots()\n",
    "scatter = ax.scatter([], [], c='b')\n",
    "line, = ax.plot([], [], 'r-')\n",
    "\n",
    "# Definir limites dos eixos\n",
    "ax.set_xlim(0, x.max() + 1)\n",
    "ax.set_ylim(0, y.max() + 1)\n",
    "\n",
    "# Função de inicialização da animação\n",
    "def init():\n",
    "    scatter.set_offsets([])\n",
    "    line.set_data([], [])\n",
    "    return scatter, line\n",
    "\n",
    "# Função para atualizar a animação em cada frame\n",
    "def update(frame):\n",
    "    x_data = x[:frame]\n",
    "    y_data = y[:frame]\n",
    "\n",
    "    # Realizar a regressão para ajustar a curva aos dados\n",
    "    popt, _ = curve_fit(linear_regression, x_data, y_data)\n",
    "\n",
    "    # Calcular os pontos da curva de regressão para o frame atual\n",
    "    x_fit = np.linspace(1, x.max(), 100)\n",
    "    y_fit = linear_regression(x_fit, *popt)\n",
    "\n",
    "    scatter.set_offsets(list(zip(x_data, y_data)))\n",
    "    line.set_data(x_fit, y_fit)\n",
    "    return scatter, line\n",
    "\n",
    "# Criar a animação\n",
    "animation = FuncAnimation(fig, update, frames=len(x), init_func=init, blit=True)\n",
    "\n",
    "# Mostrar a animação\n",
    "plt.xlabel('x')\n",
    "plt.ylabel('y')\n",
    "plt.title('Ajuste de Curva de Regressão Polinomial (Grau 1)')\n",
    "plt.show()\n"
   ]
  },
  {
   "cell_type": "code",
   "execution_count": 51,
   "metadata": {},
   "outputs": [
    {
     "data": {
      "image/png": "[encoded data removed]",
      "text/plain": [
       "<Figure size 640x480 with 1 Axes>"
      ]
     },
     "metadata": {},
     "output_type": "display_data"
    }
   ],
   "source": [
    "import numpy as np\n",
    "import matplotlib.pyplot as plt\n",
    "from matplotlib.animation import FuncAnimation\n",
    "\n",
    "# Create the figure and axes\n",
    "fig, ax = plt.subplots()\n",
    "\n",
    "# Set the limits of the plot\n",
    "ax.set_xlim(0, 2*np.pi)\n",
    "ax.set_ylim(-1.5, 1.5)\n",
    "\n",
    "# Initialize the plot elements\n",
    "line, = ax.plot([], [], lw=2)\n",
    "\n",
    "# Function to initialize the animation\n",
    "def init():\n",
    "    line.set_data([], [])\n",
    "    return line,\n",
    "\n",
    "# Function to update the plot in each frame\n",
    "def update(frame):\n",
    "    x = np.linspace(0, 2*np.pi, 100)\n",
    "    y = np.sin(x + frame/10)  # Varying phase for animation effect\n",
    "    line.set_data(x, y)\n",
    "    return line,\n",
    "\n",
    "# Create the animation object\n",
    "ani = FuncAnimation(fig, update, frames=100, init_func=init, blit=True)\n",
    "\n",
    "# Display the animation\n",
    "plt.show()\n",
    "ani.save('anima.mp4')"
   ]
  },
  {
   "cell_type": "code",
   "execution_count": 80,
   "metadata": {},
   "outputs": [
    {
     "name": "stderr",
     "output_type": "stream",
     "text": [
      "c:\\ProgramData\\anaconda3\\lib\\site-packages\\IPython\\core\\interactiveshell.py:3460: RankWarning: Polyfit may be poorly conditioned\n",
      "  exec(code_obj, self.user_global_ns, self.user_ns)\n"
     ]
    },
    {
     "name": "stdout",
     "output_type": "stream",
     "text": [
      "[3.74540119] [9.22926896]\n",
      "[3.74540119 9.50714306] [ 9.22926896 20.18565441]\n",
      "[3.74540119 9.50714306 7.31993942] [ 9.22926896 20.18565441 15.52423055]\n",
      "[3.74540119 9.50714306 7.31993942 5.98658484] [ 9.22926896 20.18565441 15.52423055 12.67206599]\n",
      "[3.74540119 9.50714306 7.31993942 5.98658484 1.5601864 ] [ 9.22926896 20.18565441 15.52423055 12.67206599  2.64185082]\n",
      "[3.74540119 9.50714306 7.31993942 5.98658484 1.5601864  1.5599452 ] [ 9.22926896 20.18565441 15.52423055 12.67206599  2.64185082  3.4000462 ]\n",
      "[3.74540119 9.50714306 7.31993942 5.98658484 1.5601864  1.5599452\n",
      " 0.58083612] [ 9.22926896 20.18565441 15.52423055 12.67206599  2.64185082  3.4000462\n",
      "  1.70103347]\n",
      "[3.74540119 9.50714306 7.31993942 5.98658484 1.5601864  1.5599452\n",
      " 0.58083612 8.66176146] [ 9.22926896 20.18565441 15.52423055 12.67206599  2.64185082  3.4000462\n",
      "  1.70103347 19.38064514]\n",
      "[3.74540119 9.50714306 7.31993942 5.98658484 1.5601864  1.5599452\n",
      " 0.58083612 8.66176146 6.01115012] [ 9.22926896 20.18565441 15.52423055 12.67206599  2.64185082  3.4000462\n",
      "  1.70103347 19.38064514 13.36591852]\n",
      "[3.74540119 9.50714306 7.31993942 5.98658484 1.5601864  1.5599452\n",
      " 0.58083612 8.66176146 6.01115012 7.08072578] [ 9.22926896 20.18565441 15.52423055 12.67206599  2.64185082  3.4000462\n",
      "  1.70103347 19.38064514 13.36591852 13.3984114 ]\n"
     ]
    },
    {
     "ename": "KeyboardInterrupt",
     "evalue": "",
     "output_type": "error",
     "traceback": [
      "\u001b[1;31m---------------------------------------------------------------------------\u001b[0m",
      "\u001b[1;31mKeyboardInterrupt\u001b[0m                         Traceback (most recent call last)",
      "Cell \u001b[1;32mIn[80], line 61\u001b[0m\n\u001b[0;32m     58\u001b[0m scatter \u001b[39m=\u001b[39m ax\u001b[39m.\u001b[39mscatter(x, y)\n\u001b[0;32m     59\u001b[0m line\u001b[39m.\u001b[39mset_data(line_x, line_y)\n\u001b[1;32m---> 61\u001b[0m time\u001b[39m.\u001b[39;49msleep(\u001b[39m1\u001b[39;49m)\n\u001b[0;32m     62\u001b[0m \u001b[39mprint\u001b[39m(x,y)\n\u001b[0;32m     63\u001b[0m scatter\n",
      "\u001b[1;31mKeyboardInterrupt\u001b[0m: "
     ]
    },
    {
     "data": {
      "image/png": "[encoded data removed]",
      "text/plain": [
       "<Figure size 640x480 with 1 Axes>"
      ]
     },
     "metadata": {},
     "output_type": "display_data"
    }
   ],
   "source": [
    "import numpy as np\n",
    "import matplotlib.pyplot as plt\n",
    "from matplotlib.animation import FuncAnimation\n",
    "\n",
    "# Generate random data for x and y\n",
    "np.random.seed(42)\n",
    "x_data = np.random.rand(50) * 10\n",
    "y_data = 2 * x_data + 1 + np.random.randn(50)  # y = 2x + 1 with Gaussian noise\n",
    "\n",
    "# Create the figure and axes\n",
    "fig, ax = plt.subplots()\n",
    "\n",
    "# Set the limits of the axes\n",
    "ax.set_xlim(0, 10)\n",
    "ax.set_ylim(0, 25)\n",
    "\n",
    "# Initialize the scatter plot and line plot\n",
    "scatter = ax.scatter([], [])\n",
    "line, = ax.plot([], [], lw=2)\n",
    "\n",
    "# Function to initialize the animation\n",
    "def init():\n",
    "    scatter.set_offsets([])\n",
    "    line.set_data([], [])\n",
    "    return scatter, line\n",
    "import time \n",
    "\n",
    "# Function to update the plot in each frame\n",
    "def update(frame):\n",
    "    x = x_data[:frame]\n",
    "    y = y_data[:frame]\n",
    "    print(x,y)\n",
    "    # Adjust the regression line using polyfit (degree 1)\n",
    "    coeffs = np.polyfit(x, y, 1)\n",
    "    line_x = np.array([x.min(), x.max()])\n",
    "    line_y = np.polyval(coeffs, line_x)\n",
    "\n",
    "    # Clear and re-create the scatter plot\n",
    "    scatter.remove()\n",
    "    scatter = ax.scatter(x, y)\n",
    "\n",
    "    line.set_data(line_x, line_y)\n",
    "    return scatter, line\n",
    "\n",
    "\n",
    "frami = range(1, len(x_data) + 1)\n",
    "# Create the animation object\n",
    "\n",
    "for i in frami:\n",
    "    \n",
    "    x = x_data[:i]\n",
    "    y = y_data[:i]\n",
    "    coeffs = np.polyfit(x, y, 1)\n",
    "    line_x = np.array([x.min(), x.max()])\n",
    "    line_y = np.polyval(coeffs, line_x)\n",
    "\n",
    "    scatter.remove()\n",
    "    scatter = ax.scatter(x, y)\n",
    "    line.set_data(line_x, line_y)\n",
    "\n",
    "    time.sleep(1)\n",
    "    print(x,y)\n",
    "    scatter\n",
    "\n",
    "\n",
    "\n",
    "#ani = FuncAnimation(fig, update, frames=frami, init_func=init, blit=True)\n",
    "\n",
    "# Display the animation\n"
   ]
  },
  {
   "cell_type": "code",
   "execution_count": 82,
   "metadata": {},
   "outputs": [
    {
     "name": "stderr",
     "output_type": "stream",
     "text": [
      "c:\\ProgramData\\anaconda3\\lib\\site-packages\\matplotlib\\animation.py:880: UserWarning: Animation was deleted without rendering anything. This is most likely not intended. To prevent deletion, assign the Animation to a variable, e.g. `anim`, that exists until you output the Animation using `plt.show()` or `anim.save()`.\n",
      "  warnings.warn(\n"
     ]
    },
    {
     "data": {
      "image/png": "[encoded data removed]",
      "text/plain": [
       "<Figure size 800x400 with 1 Axes>"
      ]
     },
     "metadata": {},
     "output_type": "display_data"
    }
   ],
   "source": [
    "import matplotlib.pyplot as plt\n",
    "import numpy as np\n",
    "import pandas as pd\n",
    "from matplotlib.animation import FuncAnimation\n",
    "from sklearn.linear_model import LinearRegression\n",
    "\n",
    "df = pd.read_csv('salary.csv')\n",
    "x = df['YearsExperience'].to_numpy()\n",
    "y = df['Salary'].to_numpy()\n",
    "\n",
    "x_train = []\n",
    "y_train = []\n",
    "x_test = np.arange(x.min(), x.max() + 1).reshape(-1, 1)\n",
    "\n",
    "fig, ax = plt.subplots(figsize=(8, 4))\n",
    "ax.set_xlim(x.min(), x.max())\n",
    "ax.set_ylim(y.min(), y.max())\n",
    "ax.set_xlabel('Years experience')\n",
    "ax.set_ylabel('Salary')\n",
    "ax.grid()\n",
    "\n",
    "scatter, = ax.plot([], [], 'go')\n",
    "line, = ax.plot([], [], 'r')\n",
    "\n",
    "lr = LinearRegression()\n",
    "\n",
    "\n",
    "def animate(n):\n",
    "    x_train.append([x[n]])\n",
    "    y_train.append([y[n]])\n",
    "\n",
    "    lr.fit(x_train, y_train)\n",
    "    y_test = lr.predict(x_test)\n",
    "\n",
    "    scatter.set_data(x_train, y_train)\n",
    "    line.set_data(x_test, y_test)\n",
    "\n",
    "\n",
    "anim = FuncAnimation(fig, animate, frames=x.size, interval=200, repeat=False)\n",
    "plt.show()\n",
    "anim.save('animation.mp4')"
   ]
  }
 ],
 "metadata": {
  "kernelspec": {
   "display_name": "base",
   "language": "python",
   "name": "python3"
  },
  "language_info": {
   "codemirror_mode": {
    "name": "ipython",
    "version": 3
   },
   "file_extension": ".py",
   "mimetype": "text/x-python",
   "name": "python",
   "nbconvert_exporter": "python",
   "pygments_lexer": "ipython3",
   "version": "3.10.9"
  },
  "orig_nbformat": 4
 },
 "nbformat": 4,
 "nbformat_minor": 2
}
